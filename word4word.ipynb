{
 "cells": [
  {
   "cell_type": "markdown",
   "metadata": {},
   "source": [
    "`func print(filename)`\n",
    "Write a method that reads the contents of a file, line by line, and creates a String object,\n",
    "making sure all the newlines are preserved."
   ]
  },
  {
   "cell_type": "code",
   "execution_count": null,
   "metadata": {},
   "outputs": [],
   "source": [
    "import pandas as pd\n",
    "import re\n",
    "\n",
    "\n",
    "class pd_file_analyzer():\n",
    "\n",
    "    def __init__(self):\n",
    "       pass\n",
    "\n",
    "    def func_print(self, file_name):\n",
    "        f = open(file_name)\n",
    "        file_list = f.readlines()\n",
    "        words = \"\".join(file_list)\n",
    "        \n",
    "        return (words.lower())\n",
    "\n",
    "    def wc(self, words):\n",
    "        \n",
    "        ww = list(words)\n",
    "        w2 = w = re.sub(r'[^a-zA-Z0-9]', ' ', words)\n",
    "        w = w2.split()\n",
    "\n",
    "\n",
    "        \n",
    "        df = pd.Series(w2)\n",
    "        df_b4 = pd.Series(w)\n",
    "\n",
    "        ch = df.str.len()# works\n",
    "        char_count = ch.iloc[0]\n",
    "        word_count = df_b4.size # works\n",
    "        lines = pd.Series(ww)\n",
    "        line_count = lines.str.count(\"\\n\").sum()\n",
    "\n",
    "        ans = pd.Series([char_count, word_count,line_count])\n",
    "\n",
    "        return ans\n",
    "    \n",
    "    def wordFrequency(self, words):\n",
    "        split_words = re.sub(r'[^a-zA-Z0-9]', ' ', words)\n",
    "        split_words = split_words.split()\n",
    "\n",
    "        df = pd.Series(split_words)\n",
    "\n",
    "        \n",
    "        \n",
    "        return df.value_counts()\n",
    "    \n",
    "    def letterFrequency(self,words):\n",
    "        words_witout = re.sub(r'[^a-zA-Z0-9]', ' ', words)\n",
    "        split_chars = list(words_witout)\n",
    "\n",
    "        df = pd.Series(split_chars)\n",
    "\n",
    "        return df.value_counts()\n",
    "\n",
    "\n"
   ]
  },
  {
   "cell_type": "code",
   "execution_count": 15,
   "metadata": {},
   "outputs": [
    {
     "data": {
      "text/plain": [
       "'the blue fox is blue.'"
      ]
     },
     "execution_count": 15,
     "metadata": {},
     "output_type": "execute_result"
    }
   ],
   "source": [
    "f = \"/Users/kunle/Python Projects/PyWordForWord/testdata/blue.txt\"\n",
    "fun = pd_file_analyzer()\n",
    "b = fun.func_print(file_name=f)\n",
    "b"
   ]
  },
  {
   "cell_type": "code",
   "execution_count": 16,
   "metadata": {},
   "outputs": [
    {
     "ename": "NameError",
     "evalue": "name 'e' is not defined",
     "output_type": "error",
     "traceback": [
      "\u001b[31m---------------------------------------------------------------------------\u001b[39m",
      "\u001b[31mNameError\u001b[39m                                 Traceback (most recent call last)",
      "\u001b[36mCell\u001b[39m\u001b[36m \u001b[39m\u001b[32mIn[16]\u001b[39m\u001b[32m, line 1\u001b[39m\n\u001b[32m----> \u001b[39m\u001b[32m1\u001b[39m g = \u001b[43mfun\u001b[49m\u001b[43m.\u001b[49m\u001b[43mletterFrequency\u001b[49m\u001b[43m(\u001b[49m\u001b[43mb\u001b[49m\u001b[43m)\u001b[49m\n\u001b[32m      2\u001b[39m g\n",
      "\u001b[36mCell\u001b[39m\u001b[36m \u001b[39m\u001b[32mIn[14]\u001b[39m\u001b[32m, line 49\u001b[39m, in \u001b[36mpd_file_analyzer.letterFrequency\u001b[39m\u001b[34m(self, words)\u001b[39m\n\u001b[32m     48\u001b[39m \u001b[38;5;28;01mdef\u001b[39;00m\u001b[38;5;250m \u001b[39m\u001b[34mletterFrequency\u001b[39m(\u001b[38;5;28mself\u001b[39m,words):\n\u001b[32m---> \u001b[39m\u001b[32m49\u001b[39m     words_witout = \u001b[43me\u001b[49m.sub(\u001b[33mr\u001b[39m\u001b[33m'\u001b[39m\u001b[33m[^a-zA-Z0-9]\u001b[39m\u001b[33m'\u001b[39m, \u001b[33m'\u001b[39m\u001b[33m \u001b[39m\u001b[33m'\u001b[39m, words)\n\u001b[32m     50\u001b[39m     split_chars = \u001b[38;5;28mlist\u001b[39m(words_witout)\n\u001b[32m     52\u001b[39m     df = pd.Series(split_chars)\n",
      "\u001b[31mNameError\u001b[39m: name 'e' is not defined"
     ]
    }
   ],
   "source": [
    "g = fun.letterFrequency(b)\n",
    "g"
   ]
  },
  {
   "cell_type": "code",
   "execution_count": null,
   "metadata": {},
   "outputs": [],
   "source": []
  }
 ],
 "metadata": {
  "kernelspec": {
   "display_name": "venv",
   "language": "python",
   "name": "python3"
  },
  "language_info": {
   "codemirror_mode": {
    "name": "ipython",
    "version": 3
   },
   "file_extension": ".py",
   "mimetype": "text/x-python",
   "name": "python",
   "nbconvert_exporter": "python",
   "pygments_lexer": "ipython3",
   "version": "3.11.11"
  }
 },
 "nbformat": 4,
 "nbformat_minor": 2
}
