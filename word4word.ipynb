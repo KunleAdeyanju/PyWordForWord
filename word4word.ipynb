{
 "cells": [
  {
   "cell_type": "markdown",
   "metadata": {},
   "source": [
    "`func print(filename)`\n",
    "Write a method that reads the contents of a file, line by line, and creates a String object,\n",
    "making sure all the newlines are preserved."
   ]
  },
  {
   "cell_type": "code",
   "execution_count": null,
   "metadata": {},
   "outputs": [],
   "source": [
    "import pandas as pd\n",
    "import re\n",
    "\n",
    "\n",
    "class pd_file_analyzer():\n",
    "\n",
    "    def __init__(self):\n",
    "       pass\n",
    "\n",
    "    def func_print(self, file_name):\n",
    "        f = open(file_name)\n",
    "        file_list = f.readlines()\n",
    "        words = \"\".join(file_list)\n",
    "        \n",
    "        return (words.lower())\n",
    "\n",
    "    def wc(self, words):\n",
    "        \n",
    "        ww = list(words)\n",
    "        w2 = w = re.sub(r'[^a-zA-Z0-9]', ' ', words)\n",
    "        w = w2.split()\n",
    "\n",
    "\n",
    "        \n",
    "        df = pd.Series(w2)\n",
    "        df_b4 = pd.Series(w)\n",
    "\n",
    "        ch = df.str.len()# works\n",
    "        char_count = ch.iloc[0]\n",
    "        word_count = df_b4.size # works\n",
    "        lines = pd.Series(ww)\n",
    "        line_count = lines.str.count(\"\\n\").sum()\n",
    "\n",
    "        ans = pd.Series([char_count, word_count,line_count])\n",
    "\n",
    "        return ans\n",
    "    \n",
    "    def wordFrequency(self, words):\n",
    "        split_words = re.sub(r'[^a-zA-Z0-9]', ' ', words)\n",
    "        split_words = split_words.split()\n",
    "\n",
    "        df = pd.Series(split_words)\n",
    "\n",
    "        \n",
    "        \n",
    "        return df.value_counts()\n",
    "    \n",
    "    def letterFrequency(self,words):\n",
    "        words_witout = re.sub(r'[^a-zA-Z0-9]', '', words) # make sure 3rd parameter space is closed\n",
    "        split_chars = list(words_witout)\n",
    "\n",
    "        df = pd.Series(split_chars)\n",
    "\n",
    "        return df.value_counts()\n",
    "\n",
    "\n"
   ]
  },
  {
   "cell_type": "code",
   "execution_count": 21,
   "metadata": {},
   "outputs": [
    {
     "data": {
      "text/plain": [
       "'the blue fox is blue.'"
      ]
     },
     "execution_count": 21,
     "metadata": {},
     "output_type": "execute_result"
    }
   ],
   "source": [
    "f = \"/Users/kunle/Python Projects/PyWordForWord/testdata/blue.txt\"\n",
    "fun = pd_file_analyzer()\n",
    "b = fun.func_print(file_name=f)\n",
    "b"
   ]
  },
  {
   "cell_type": "code",
   "execution_count": 22,
   "metadata": {},
   "outputs": [
    {
     "data": {
      "text/plain": [
       "e    3\n",
       "b    2\n",
       "l    2\n",
       "u    2\n",
       "t    1\n",
       "h    1\n",
       "f    1\n",
       "o    1\n",
       "x    1\n",
       "i    1\n",
       "s    1\n",
       "Name: count, dtype: int64"
      ]
     },
     "execution_count": 22,
     "metadata": {},
     "output_type": "execute_result"
    }
   ],
   "source": [
    "g = fun.letterFrequency(b)\n",
    "g"
   ]
  },
  {
   "cell_type": "code",
   "execution_count": 25,
   "metadata": {},
   "outputs": [
    {
     "data": {
      "text/html": [
       "<div>\n",
       "<style scoped>\n",
       "    .dataframe tbody tr th:only-of-type {\n",
       "        vertical-align: middle;\n",
       "    }\n",
       "\n",
       "    .dataframe tbody tr th {\n",
       "        vertical-align: top;\n",
       "    }\n",
       "\n",
       "    .dataframe thead th {\n",
       "        text-align: right;\n",
       "    }\n",
       "</style>\n",
       "<table border=\"1\" class=\"dataframe\">\n",
       "  <thead>\n",
       "    <tr style=\"text-align: right;\">\n",
       "      <th></th>\n",
       "      <th>0</th>\n",
       "      <th>1</th>\n",
       "      <th>2</th>\n",
       "    </tr>\n",
       "  </thead>\n",
       "  <tbody>\n",
       "    <tr>\n",
       "      <th>0</th>\n",
       "      <td>21</td>\n",
       "      <td>5</td>\n",
       "      <td>0</td>\n",
       "    </tr>\n",
       "  </tbody>\n",
       "</table>\n",
       "</div>"
      ],
      "text/plain": [
       "    0  1  2\n",
       "0  21  5  0"
      ]
     },
     "execution_count": 25,
     "metadata": {},
     "output_type": "execute_result"
    }
   ],
   "source": [
    "h = fun.wc(b)\n",
    "\n",
    "bo = pd.DataFrame(h)\n",
    "bo.T"
   ]
  }
 ],
 "metadata": {
  "kernelspec": {
   "display_name": "venv",
   "language": "python",
   "name": "python3"
  },
  "language_info": {
   "codemirror_mode": {
    "name": "ipython",
    "version": 3
   },
   "file_extension": ".py",
   "mimetype": "text/x-python",
   "name": "python",
   "nbconvert_exporter": "python",
   "pygments_lexer": "ipython3",
   "version": "3.11.11"
  }
 },
 "nbformat": 4,
 "nbformat_minor": 2
}
