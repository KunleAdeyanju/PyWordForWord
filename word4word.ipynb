{
 "cells": [
  {
   "cell_type": "markdown",
   "metadata": {},
   "source": [
    "`func print(filename)`\n",
    "Write a method that reads the contents of a file, line by line, and creates a String object,\n",
    "making sure all the newlines are preserved."
   ]
  },
  {
   "cell_type": "code",
   "execution_count": 142,
   "metadata": {},
   "outputs": [],
   "source": [
    "import pandas as pd\n",
    "import re\n",
    "\n",
    "\n",
    "class pd_file_analyzer():\n",
    "\n",
    "    def __init__(self):\n",
    "       pass\n",
    "\n",
    "    def func_print(self, file_name):\n",
    "        f = open(file_name)\n",
    "        file_list = f.readlines()\n",
    "        words = \"\".join(file_list)\n",
    "        \n",
    "        return (words.lower())\n",
    "\n",
    "    def wc(self, words):\n",
    "        \n",
    "        ww = list(words)\n",
    "        w2 = w = re.sub(r'[^a-zA-Z0-9]', ' ', words)\n",
    "        w = w2.split()\n",
    "\n",
    "\n",
    "        \n",
    "        df = pd.Series(w2)\n",
    "        df_b4 = pd.Series(w)\n",
    "\n",
    "        ch = df.str.len()# works\n",
    "        char_count = ch.iloc[0]\n",
    "        word_count = df_b4.size # works\n",
    "        lines = pd.Series(ww)\n",
    "        line_count = lines.str.count(\"\\n\").sum()\n",
    "\n",
    "        ans = pd.Series([char_count, word_count,line_count])\n",
    "\n",
    "        return ans\n",
    "    \n",
    "    def wordFrequency(self, words):\n",
    "        split_words = re.sub(r'[^a-zA-Z0-9]', ' ', words)\n",
    "        split_words = split_words.split()\n",
    "\n",
    "        df = pd.Series(split_words)\n",
    "\n",
    "    \n",
    "        dd = df.value_counts().reset_index()\n",
    "        \n",
    "        \n",
    "        return dd\n",
    "    \n",
    "    def letterFrequency(self,words):\n",
    "        words_witout = re.sub(r'[^a-zA-Z0-9]', '', words) # make sure 3rd parameter space is closed\n",
    "        split_chars = list(words_witout)\n",
    "\n",
    "        df = pd.Series(split_chars)\n",
    "\n",
    "        df1 = df.value_counts().reset_index()\n",
    "\n",
    "        return df1\n",
    "\n",
    "\n"
   ]
  },
  {
   "cell_type": "code",
   "execution_count": 143,
   "metadata": {},
   "outputs": [
    {
     "data": {
      "text/plain": [
       "'the blue fox is blue.'"
      ]
     },
     "execution_count": 143,
     "metadata": {},
     "output_type": "execute_result"
    }
   ],
   "source": [
    "f = \"/Users/kunle/Python Projects/PyWordForWord/testdata/blue.txt\"\n",
    "fun = pd_file_analyzer()\n",
    "b = fun.func_print(file_name=f)\n",
    "b"
   ]
  },
  {
   "cell_type": "code",
   "execution_count": 144,
   "metadata": {},
   "outputs": [
    {
     "data": {
      "text/html": [
       "<div>\n",
       "<style scoped>\n",
       "    .dataframe tbody tr th:only-of-type {\n",
       "        vertical-align: middle;\n",
       "    }\n",
       "\n",
       "    .dataframe tbody tr th {\n",
       "        vertical-align: top;\n",
       "    }\n",
       "\n",
       "    .dataframe thead th {\n",
       "        text-align: right;\n",
       "    }\n",
       "</style>\n",
       "<table border=\"1\" class=\"dataframe\">\n",
       "  <thead>\n",
       "    <tr style=\"text-align: right;\">\n",
       "      <th></th>\n",
       "      <th>index</th>\n",
       "      <th>count</th>\n",
       "    </tr>\n",
       "  </thead>\n",
       "  <tbody>\n",
       "    <tr>\n",
       "      <th>0</th>\n",
       "      <td>e</td>\n",
       "      <td>3</td>\n",
       "    </tr>\n",
       "    <tr>\n",
       "      <th>1</th>\n",
       "      <td>b</td>\n",
       "      <td>2</td>\n",
       "    </tr>\n",
       "    <tr>\n",
       "      <th>2</th>\n",
       "      <td>l</td>\n",
       "      <td>2</td>\n",
       "    </tr>\n",
       "    <tr>\n",
       "      <th>3</th>\n",
       "      <td>u</td>\n",
       "      <td>2</td>\n",
       "    </tr>\n",
       "    <tr>\n",
       "      <th>4</th>\n",
       "      <td>t</td>\n",
       "      <td>1</td>\n",
       "    </tr>\n",
       "    <tr>\n",
       "      <th>5</th>\n",
       "      <td>h</td>\n",
       "      <td>1</td>\n",
       "    </tr>\n",
       "    <tr>\n",
       "      <th>6</th>\n",
       "      <td>f</td>\n",
       "      <td>1</td>\n",
       "    </tr>\n",
       "    <tr>\n",
       "      <th>7</th>\n",
       "      <td>o</td>\n",
       "      <td>1</td>\n",
       "    </tr>\n",
       "    <tr>\n",
       "      <th>8</th>\n",
       "      <td>x</td>\n",
       "      <td>1</td>\n",
       "    </tr>\n",
       "    <tr>\n",
       "      <th>9</th>\n",
       "      <td>i</td>\n",
       "      <td>1</td>\n",
       "    </tr>\n",
       "    <tr>\n",
       "      <th>10</th>\n",
       "      <td>s</td>\n",
       "      <td>1</td>\n",
       "    </tr>\n",
       "  </tbody>\n",
       "</table>\n",
       "</div>"
      ],
      "text/plain": [
       "   index  count\n",
       "0      e      3\n",
       "1      b      2\n",
       "2      l      2\n",
       "3      u      2\n",
       "4      t      1\n",
       "5      h      1\n",
       "6      f      1\n",
       "7      o      1\n",
       "8      x      1\n",
       "9      i      1\n",
       "10     s      1"
      ]
     },
     "execution_count": 144,
     "metadata": {},
     "output_type": "execute_result"
    }
   ],
   "source": [
    "g = fun.letterFrequency(b)\n",
    "g"
   ]
  },
  {
   "cell_type": "code",
   "execution_count": 134,
   "metadata": {},
   "outputs": [
    {
     "data": {
      "text/plain": [
       "<bound method NDFrame.describe of    char_count  word_count  line_count\n",
       "0          21           5           0>"
      ]
     },
     "execution_count": 134,
     "metadata": {},
     "output_type": "execute_result"
    }
   ],
   "source": [
    "h = fun.wc(b)\n",
    "\n",
    "bo = pd.DataFrame(h)\n",
    "bo = bo.T\n",
    "bo.rename(columns={0:\"char_count\", 1:\"word_count\", 2:\"line_count\"}, inplace=True)\n",
    "bo.describe"
   ]
  },
  {
   "cell_type": "code",
   "execution_count": 135,
   "metadata": {},
   "outputs": [
    {
     "data": {
      "text/plain": [
       "<bound method NDFrame.describe of   blue the fox is\n",
       "0    2   1   1  1>"
      ]
     },
     "execution_count": 135,
     "metadata": {},
     "output_type": "execute_result"
    }
   ],
   "source": [
    "ddd = fun.wordFrequency(b)\n",
    "ddd = ddd.T\n",
    "# ddd.columns = ddd.iloc[0]\n",
    "# ddd = ddd[1:]\n",
    "# ddd\n",
    "ddd = ddd.rename(columns=ddd.iloc[0]).drop(ddd.index[0])\n",
    "ddd = ddd.rename(index = {'count':0})\n",
    "ddd\n",
    "ddd.describe"
   ]
  },
  {
   "cell_type": "code",
   "execution_count": 150,
   "metadata": {},
   "outputs": [
    {
     "data": {
      "text/html": [
       "<div>\n",
       "<style scoped>\n",
       "    .dataframe tbody tr th:only-of-type {\n",
       "        vertical-align: middle;\n",
       "    }\n",
       "\n",
       "    .dataframe tbody tr th {\n",
       "        vertical-align: top;\n",
       "    }\n",
       "\n",
       "    .dataframe thead th {\n",
       "        text-align: right;\n",
       "    }\n",
       "</style>\n",
       "<table border=\"1\" class=\"dataframe\">\n",
       "  <thead>\n",
       "    <tr style=\"text-align: right;\">\n",
       "      <th></th>\n",
       "      <th>char_count</th>\n",
       "      <th>word_count</th>\n",
       "      <th>line_count</th>\n",
       "      <th>blue</th>\n",
       "      <th>the</th>\n",
       "      <th>fox</th>\n",
       "      <th>is</th>\n",
       "    </tr>\n",
       "  </thead>\n",
       "  <tbody>\n",
       "    <tr>\n",
       "      <th>0</th>\n",
       "      <td>21</td>\n",
       "      <td>5</td>\n",
       "      <td>0</td>\n",
       "      <td>2</td>\n",
       "      <td>1</td>\n",
       "      <td>1</td>\n",
       "      <td>1</td>\n",
       "    </tr>\n",
       "  </tbody>\n",
       "</table>\n",
       "</div>"
      ],
      "text/plain": [
       "   char_count  word_count  line_count blue the fox is\n",
       "0          21           5           0    2   1   1  1"
      ]
     },
     "execution_count": 150,
     "metadata": {},
     "output_type": "execute_result"
    }
   ],
   "source": [
    "#bhhh = pd.concat([bo,ddd], ignore_index=True)\n",
    "hhh = bo.join(ddd)\n",
    "hhh"
   ]
  },
  {
   "cell_type": "code",
   "execution_count": 151,
   "metadata": {},
   "outputs": [
    {
     "data": {
      "text/html": [
       "<div>\n",
       "<style scoped>\n",
       "    .dataframe tbody tr th:only-of-type {\n",
       "        vertical-align: middle;\n",
       "    }\n",
       "\n",
       "    .dataframe tbody tr th {\n",
       "        vertical-align: top;\n",
       "    }\n",
       "\n",
       "    .dataframe thead th {\n",
       "        text-align: right;\n",
       "    }\n",
       "</style>\n",
       "<table border=\"1\" class=\"dataframe\">\n",
       "  <thead>\n",
       "    <tr style=\"text-align: right;\">\n",
       "      <th></th>\n",
       "      <th>e</th>\n",
       "      <th>b</th>\n",
       "      <th>l</th>\n",
       "      <th>u</th>\n",
       "      <th>t</th>\n",
       "      <th>h</th>\n",
       "      <th>f</th>\n",
       "      <th>o</th>\n",
       "      <th>x</th>\n",
       "      <th>i</th>\n",
       "      <th>s</th>\n",
       "    </tr>\n",
       "  </thead>\n",
       "  <tbody>\n",
       "    <tr>\n",
       "      <th>0</th>\n",
       "      <td>3</td>\n",
       "      <td>2</td>\n",
       "      <td>2</td>\n",
       "      <td>2</td>\n",
       "      <td>1</td>\n",
       "      <td>1</td>\n",
       "      <td>1</td>\n",
       "      <td>1</td>\n",
       "      <td>1</td>\n",
       "      <td>1</td>\n",
       "      <td>1</td>\n",
       "    </tr>\n",
       "  </tbody>\n",
       "</table>\n",
       "</div>"
      ],
      "text/plain": [
       "   e  b  l  u  t  h  f  o  x  i  s\n",
       "0  3  2  2  2  1  1  1  1  1  1  1"
      ]
     },
     "execution_count": 151,
     "metadata": {},
     "output_type": "execute_result"
    }
   ],
   "source": [
    "jjj = fun.letterFrequency(b)\n",
    "jjj = jjj.T\n",
    "jjj = jjj.rename(columns=jjj.iloc[0]).drop(jjj.index[0])\n",
    "jjj = jjj.rename(index = {'count':0})\n",
    "jjj"
   ]
  },
  {
   "cell_type": "code",
   "execution_count": 152,
   "metadata": {},
   "outputs": [
    {
     "data": {
      "text/html": [
       "<div>\n",
       "<style scoped>\n",
       "    .dataframe tbody tr th:only-of-type {\n",
       "        vertical-align: middle;\n",
       "    }\n",
       "\n",
       "    .dataframe tbody tr th {\n",
       "        vertical-align: top;\n",
       "    }\n",
       "\n",
       "    .dataframe thead th {\n",
       "        text-align: right;\n",
       "    }\n",
       "</style>\n",
       "<table border=\"1\" class=\"dataframe\">\n",
       "  <thead>\n",
       "    <tr style=\"text-align: right;\">\n",
       "      <th></th>\n",
       "      <th>char_count</th>\n",
       "      <th>word_count</th>\n",
       "      <th>line_count</th>\n",
       "      <th>blue</th>\n",
       "      <th>the</th>\n",
       "      <th>fox</th>\n",
       "      <th>is</th>\n",
       "      <th>e</th>\n",
       "      <th>b</th>\n",
       "      <th>l</th>\n",
       "      <th>u</th>\n",
       "      <th>t</th>\n",
       "      <th>h</th>\n",
       "      <th>f</th>\n",
       "      <th>o</th>\n",
       "      <th>x</th>\n",
       "      <th>i</th>\n",
       "      <th>s</th>\n",
       "    </tr>\n",
       "  </thead>\n",
       "  <tbody>\n",
       "    <tr>\n",
       "      <th>0</th>\n",
       "      <td>21</td>\n",
       "      <td>5</td>\n",
       "      <td>0</td>\n",
       "      <td>2</td>\n",
       "      <td>1</td>\n",
       "      <td>1</td>\n",
       "      <td>1</td>\n",
       "      <td>3</td>\n",
       "      <td>2</td>\n",
       "      <td>2</td>\n",
       "      <td>2</td>\n",
       "      <td>1</td>\n",
       "      <td>1</td>\n",
       "      <td>1</td>\n",
       "      <td>1</td>\n",
       "      <td>1</td>\n",
       "      <td>1</td>\n",
       "      <td>1</td>\n",
       "    </tr>\n",
       "  </tbody>\n",
       "</table>\n",
       "</div>"
      ],
      "text/plain": [
       "   char_count  word_count  line_count blue the fox is  e  b  l  u  t  h  f  o  \\\n",
       "0          21           5           0    2   1   1  1  3  2  2  2  1  1  1  1   \n",
       "\n",
       "   x  i  s  \n",
       "0  1  1  1  "
      ]
     },
     "execution_count": 152,
     "metadata": {},
     "output_type": "execute_result"
    }
   ],
   "source": [
    "final = hhh.join(jjj)\n",
    "final"
   ]
  },
  {
   "cell_type": "code",
   "execution_count": 159,
   "metadata": {},
   "outputs": [
    {
     "name": "stdout",
     "output_type": "stream",
     "text": [
      "Connection Established\n",
      "Database created successfully\n"
     ]
    }
   ],
   "source": [
    "import mysql.connector \n",
    "from sqlalchemy import create_engine\n",
    "\n",
    "try:\n",
    "    mydb = mysql.connector.connect(\n",
    "        host=\"localhost\",\n",
    "        user=\"new_user\",\n",
    "        password=\"password\",\n",
    "        # database=\"word4word\"\n",
    "    )\n",
    "    print(\"Connection Established\")\n",
    "    cursor = mydb.cursor()\n",
    "    cursor.execute(\"create database if not exists new_db\")\n",
    "    mydb.commit()\n",
    "    print(\"Database created successfully\")\n",
    "    cursor.execute(\"use new_db\")\n",
    "\n",
    "except mysql.connector.Error as err:\n",
    "    print(\"An error occured:\", err)"
   ]
  },
  {
   "cell_type": "code",
   "execution_count": 162,
   "metadata": {},
   "outputs": [],
   "source": [
    "hostname = \"localhost\"\n",
    "database = \"new_db\"\n",
    "username = \"username\"\n",
    "password = \"password\"\n",
    "\n",
    "engine = create_engine(\"mysql+pymysql://{user}:{pw}@{host}/{db}\".format(host=hostname, db=database, user=username, pw=password))\n"
   ]
  },
  {
   "cell_type": "code",
   "execution_count": null,
   "metadata": {},
   "outputs": [],
   "source": [
    "final.to_sql('table1', engine,if_exists='replace',index=False)"
   ]
  }
 ],
 "metadata": {
  "kernelspec": {
   "display_name": "venv",
   "language": "python",
   "name": "python3"
  },
  "language_info": {
   "codemirror_mode": {
    "name": "ipython",
    "version": 3
   },
   "file_extension": ".py",
   "mimetype": "text/x-python",
   "name": "python",
   "nbconvert_exporter": "python",
   "pygments_lexer": "ipython3",
   "version": "3.11.11"
  }
 },
 "nbformat": 4,
 "nbformat_minor": 2
}
