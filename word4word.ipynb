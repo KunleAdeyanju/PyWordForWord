{
 "cells": [
  {
   "cell_type": "markdown",
   "metadata": {},
   "source": [
    "`func print(filename)`\n",
    "Write a method that reads the contents of a file, line by line, and creates a String object,\n",
    "making sure all the newlines are preserved."
   ]
  },
  {
   "cell_type": "code",
   "execution_count": null,
   "metadata": {},
   "outputs": [],
   "source": [
    "import pandas as pd\n",
    "import re\n",
    "\n",
    "\n",
    "class pd_file_analyzer():\n",
    "\n",
    "    def __init__(self):\n",
    "       pass\n",
    "\n",
    "    def func_print(self, file_name):\n",
    "        f = open(file_name)\n",
    "        file_list = f.readlines()\n",
    "        words = \"\".join(file_list)\n",
    "        \n",
    "        return (words.lower())\n",
    "\n",
    "    def wc(self, words):\n",
    "        \n",
    "        ww = list(words)\n",
    "        w2 = w = re.sub(r'[^a-zA-Z0-9]', ' ', words)\n",
    "        w = w2.split()\n",
    "\n",
    "\n",
    "        \n",
    "        df = pd.Series(w2)\n",
    "        df_b4 = pd.Series(w)\n",
    "\n",
    "        char_count = df.str.len() # works\n",
    "        word_count = df.size # works\n",
    "        line_count = pd.Series(ww)\n",
    "        l = line_count.str.count(\"\\n\").sum\n",
    "\n",
    "        return l\n",
    "\n",
    "\n"
   ]
  },
  {
   "cell_type": "code",
   "execution_count": 120,
   "metadata": {},
   "outputs": [
    {
     "data": {
      "text/plain": [
       "'zip code rocks\\nzip code wilmington\\n'"
      ]
     },
     "execution_count": 120,
     "metadata": {},
     "output_type": "execute_result"
    }
   ],
   "source": [
    "f = \"/Users/kunle/Python Projects/PyWordForWord/testdata/testdata1.txt\"\n",
    "fun = pd_file_analyzer()\n",
    "b = fun.func_print(file_name=f)\n",
    "b"
   ]
  },
  {
   "cell_type": "code",
   "execution_count": 121,
   "metadata": {},
   "outputs": [
    {
     "data": {
      "text/plain": [
       "0     0\n",
       "1     0\n",
       "2     0\n",
       "3     0\n",
       "4     0\n",
       "5     0\n",
       "6     0\n",
       "7     0\n",
       "8     0\n",
       "9     0\n",
       "10    0\n",
       "11    0\n",
       "12    0\n",
       "13    0\n",
       "14    1\n",
       "15    0\n",
       "16    0\n",
       "17    0\n",
       "18    0\n",
       "19    0\n",
       "20    0\n",
       "21    0\n",
       "22    0\n",
       "23    0\n",
       "24    0\n",
       "25    0\n",
       "26    0\n",
       "27    0\n",
       "28    0\n",
       "29    0\n",
       "30    0\n",
       "31    0\n",
       "32    0\n",
       "33    0\n",
       "34    1\n",
       "dtype: int64"
      ]
     },
     "execution_count": 121,
     "metadata": {},
     "output_type": "execute_result"
    }
   ],
   "source": [
    "g = fun.wc(b)\n",
    "g"
   ]
  }
 ],
 "metadata": {
  "kernelspec": {
   "display_name": "venv",
   "language": "python",
   "name": "python3"
  },
  "language_info": {
   "codemirror_mode": {
    "name": "ipython",
    "version": 3
   },
   "file_extension": ".py",
   "mimetype": "text/x-python",
   "name": "python",
   "nbconvert_exporter": "python",
   "pygments_lexer": "ipython3",
   "version": "3.11.11"
  }
 },
 "nbformat": 4,
 "nbformat_minor": 2
}
